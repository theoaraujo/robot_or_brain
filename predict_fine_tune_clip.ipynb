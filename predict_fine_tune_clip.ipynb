{
 "cells": [
  {
   "cell_type": "code",
   "execution_count": 18,
   "metadata": {
    "pycharm": {
     "name": "#%%\n"
    }
   },
   "outputs": [],
   "source": [
    "import numpy as np\n",
    "import pandas as pd\n",
    "from pandas import DataFrame as df\n",
    "import tensorflow as tf"
   ]
  },
  {
   "cell_type": "markdown",
   "metadata": {
    "pycharm": {
     "name": "#%% md\n"
    }
   },
   "source": [
    "### Load validation set in tensorflow format"
   ]
  },
  {
   "cell_type": "code",
   "execution_count": 19,
   "metadata": {
    "pycharm": {
     "name": "#%%\n"
    }
   },
   "outputs": [
    {
     "name": "stdout",
     "output_type": "stream",
     "text": [
      "Loaded 22480 instances from /home/theo/robot_images/validation.pk.\n",
      "X shape (22480, 512) and y shape (22480,) with labels:\n",
      "y\n",
      "class_Superior human                     22464\n",
      "class_Thinking machine                       4\n",
      "class_None of the above                      2\n",
      "class_Mysterious AI                          2\n",
      "class_Collaborative or Interactive AI        2\n",
      "class_Complex AI                             2\n",
      "class_Learning or recognition machine        2\n",
      "class_Acting or Performing machine           2\n",
      "Name: count, dtype: int64.\n"
     ]
    }
   ],
   "source": [
    "def load_dataset(path):\n",
    "    data = pd.read_pickle(path)\n",
    "    n_features = data['clip_features'][0].shape[-1]\n",
    "    class_names = data['y'].unique()\n",
    "    y = np.array([np.where(class_names == e)[0][0] for e in data['y']])\n",
    "    x = np.concatenate(data['clip_features'].to_numpy())\n",
    "    print(f'Loaded {len(x)} instances from {path}.')\n",
    "    print(f'X shape {x.shape} and y shape {y.shape} with labels:\\n{data[\"y\"].value_counts()}.')\n",
    "    train_ds = tf.data.Dataset.from_tensor_slices((x, y)).batch(16)\n",
    "    return train_ds, class_names, n_features, data['paths']\n",
    "\n",
    "\n",
    "validation_ds, class_names, n_features, paths = load_dataset('/home/theo/robot_images/validation.pk')"
   ]
  },
  {
   "cell_type": "code",
   "execution_count": 20,
   "metadata": {
    "pycharm": {
     "name": "#%%\n"
    }
   },
   "outputs": [],
   "source": [
    "class_list = class_names"
   ]
  },
  {
   "cell_type": "code",
   "execution_count": 21,
   "metadata": {
    "pycharm": {
     "name": "#%%\n"
    }
   },
   "outputs": [],
   "source": [
    "trues = [class_list[int(y)] for _x, y in validation_ds.unbatch()]"
   ]
  },
  {
   "cell_type": "markdown",
   "metadata": {
    "pycharm": {
     "name": "#%% md\n"
    }
   },
   "source": [
    "### Print class counts for each split"
   ]
  },
  {
   "cell_type": "code",
   "execution_count": 22,
   "metadata": {
    "pycharm": {
     "name": "#%%\n"
    }
   },
   "outputs": [
    {
     "data": {
      "text/plain": [
       "class_Superior human                     22464\n",
       "class_Thinking machine                       4\n",
       "class_Acting or Performing machine           2\n",
       "class_Collaborative or Interactive AI        2\n",
       "class_Learning or recognition machine        2\n",
       "class_Complex AI                             2\n",
       "class_None of the above                      2\n",
       "class_Mysterious AI                          2\n",
       "Name: count, dtype: int64"
      ]
     },
     "execution_count": 22,
     "metadata": {},
     "output_type": "execute_result"
    }
   ],
   "source": [
    "df([y for y in trues]).value_counts()"
   ]
  },
  {
   "cell_type": "markdown",
   "metadata": {
    "pycharm": {
     "name": "#%% md\n"
    }
   },
   "source": [
    "Some of these counts are horrible. The number of examples in 'Learning or recognition machine', 'Superior human' and 'Mysterious AI' are really too small. Also, the 'None of the above' class is very large, although that's not really a problem."
   ]
  },
  {
   "cell_type": "markdown",
   "metadata": {
    "pycharm": {
     "name": "#%% md\n"
    }
   },
   "source": [
    "### Load our trained model"
   ]
  },
  {
   "cell_type": "code",
   "execution_count": 23,
   "metadata": {
    "pycharm": {
     "name": "#%%\n"
    }
   },
   "outputs": [],
   "source": [
    "import tensorflow as tf\n",
    "\n",
    "# model = tf.keras.models.load_model('./fine_tuned_model_3m6herki')\n",
    "# model = tf.keras.models.load_model('./fine_tuned_model_3f0vzk68')\n",
    "# model = tf.keras.models.load_model('./fine_tuned_model_qdesgan9')\n",
    "# model = tf.keras.models.load_model('./clip_features_model_kuw3ehqp')\n",
    "model = tf.keras.models.load_model('./clip_features_model_kf5cnvvi')"
   ]
  },
  {
   "cell_type": "markdown",
   "metadata": {
    "pycharm": {
     "name": "#%% md\n"
    }
   },
   "source": [
    "### Make predictions"
   ]
  },
  {
   "cell_type": "code",
   "execution_count": 24,
   "metadata": {
    "pycharm": {
     "name": "#%%\n"
    }
   },
   "outputs": [
    {
     "name": "stdout",
     "output_type": "stream",
     "text": [
      "1405/1405 [==============================] - 1s 622us/step\n",
      "class_Complex AI                         8557\n",
      "class_Mysterious AI                      4418\n",
      "class_Acting or Performing machine       3849\n",
      "class_Thinking machine                   2824\n",
      "class_None of the above                  1737\n",
      "class_Learning or recognition machine     828\n",
      "class_Superior human                      267\n",
      "Name: count, dtype: int64\n",
      "class_Superior human                     22464\n",
      "class_Thinking machine                       4\n",
      "class_Acting or Performing machine           2\n",
      "class_Collaborative or Interactive AI        2\n",
      "class_Learning or recognition machine        2\n",
      "class_Complex AI                             2\n",
      "class_None of the above                      2\n",
      "class_Mysterious AI                          2\n",
      "Name: count, dtype: int64\n"
     ]
    }
   ],
   "source": [
    "logits = model.predict(validation_ds)\n",
    "predicted = [class_list[v] for v in np.argmax(logits, 1)]\n",
    "from pandas import DataFrame as df\n",
    "\n",
    "print(df(predicted).value_counts())\n",
    "print(df(trues).value_counts())"
   ]
  },
  {
   "cell_type": "code",
   "execution_count": 25,
   "metadata": {},
   "outputs": [],
   "source": [
    "df_predicted = df(predicted).reset_index()\n",
    "df_trues = df(trues).reset_index()"
   ]
  },
  {
   "cell_type": "code",
   "execution_count": 26,
   "metadata": {},
   "outputs": [],
   "source": [
    "df_predicted = df_predicted.rename(columns={0:'predictions'})\n",
    "df_trues = df_trues.rename(columns={0:'folder_validation'})"
   ]
  },
  {
   "cell_type": "code",
   "execution_count": 27,
   "metadata": {},
   "outputs": [],
   "source": [
    "results = []"
   ]
  },
  {
   "cell_type": "code",
   "execution_count": 28,
   "metadata": {},
   "outputs": [],
   "source": [
    "for prediction, path in zip(predicted, paths):\n",
    "    r = {}\n",
    "    r['prediction'] = prediction\n",
    "    r['path'] = path\n",
    "    r['filename'] = path.name\n",
    "    results.append(r)"
   ]
  },
  {
   "cell_type": "code",
   "execution_count": 29,
   "metadata": {},
   "outputs": [],
   "source": [
    "results = pd.DataFrame(results)"
   ]
  },
  {
   "cell_type": "code",
   "execution_count": 30,
   "metadata": {},
   "outputs": [
    {
     "data": {
      "text/html": [
       "<div>\n",
       "<style scoped>\n",
       "    .dataframe tbody tr th:only-of-type {\n",
       "        vertical-align: middle;\n",
       "    }\n",
       "\n",
       "    .dataframe tbody tr th {\n",
       "        vertical-align: top;\n",
       "    }\n",
       "\n",
       "    .dataframe thead th {\n",
       "        text-align: right;\n",
       "    }\n",
       "</style>\n",
       "<table border=\"1\" class=\"dataframe\">\n",
       "  <thead>\n",
       "    <tr style=\"text-align: right;\">\n",
       "      <th></th>\n",
       "      <th>prediction</th>\n",
       "      <th>path</th>\n",
       "      <th>filename</th>\n",
       "    </tr>\n",
       "  </thead>\n",
       "  <tbody>\n",
       "    <tr>\n",
       "      <th>0</th>\n",
       "      <td>class_Mysterious AI</td>\n",
       "      <td>/home/theo/robot_images/images_by_class/valida...</td>\n",
       "      <td>139716097.jpg</td>\n",
       "    </tr>\n",
       "    <tr>\n",
       "      <th>1</th>\n",
       "      <td>class_Mysterious AI</td>\n",
       "      <td>/home/theo/robot_images/images_by_class/valida...</td>\n",
       "      <td>139716088.jpg</td>\n",
       "    </tr>\n",
       "    <tr>\n",
       "      <th>2</th>\n",
       "      <td>class_Acting or Performing machine</td>\n",
       "      <td>/home/theo/robot_images/images_by_class/valida...</td>\n",
       "      <td>139674805.jpg</td>\n",
       "    </tr>\n",
       "    <tr>\n",
       "      <th>3</th>\n",
       "      <td>class_Learning or recognition machine</td>\n",
       "      <td>/home/theo/robot_images/images_by_class/valida...</td>\n",
       "      <td>139675342.jpg</td>\n",
       "    </tr>\n",
       "    <tr>\n",
       "      <th>4</th>\n",
       "      <td>class_None of the above</td>\n",
       "      <td>/home/theo/robot_images/images_by_class/valida...</td>\n",
       "      <td>139722757.jpg</td>\n",
       "    </tr>\n",
       "    <tr>\n",
       "      <th>...</th>\n",
       "      <td>...</td>\n",
       "      <td>...</td>\n",
       "      <td>...</td>\n",
       "    </tr>\n",
       "    <tr>\n",
       "      <th>22475</th>\n",
       "      <td>class_Thinking machine</td>\n",
       "      <td>/home/theo/robot_images/images_by_class/valida...</td>\n",
       "      <td>139689554.jpg</td>\n",
       "    </tr>\n",
       "    <tr>\n",
       "      <th>22476</th>\n",
       "      <td>class_Thinking machine</td>\n",
       "      <td>/home/theo/robot_images/images_by_class/valida...</td>\n",
       "      <td>139715503.jpg</td>\n",
       "    </tr>\n",
       "    <tr>\n",
       "      <th>22477</th>\n",
       "      <td>class_Thinking machine</td>\n",
       "      <td>/home/theo/robot_images/images_by_class/valida...</td>\n",
       "      <td>139689692.jpg</td>\n",
       "    </tr>\n",
       "    <tr>\n",
       "      <th>22478</th>\n",
       "      <td>class_Acting or Performing machine</td>\n",
       "      <td>/home/theo/robot_images/images_by_class/valida...</td>\n",
       "      <td>139722773.jpg</td>\n",
       "    </tr>\n",
       "    <tr>\n",
       "      <th>22479</th>\n",
       "      <td>class_Complex AI</td>\n",
       "      <td>/home/theo/robot_images/images_by_class/valida...</td>\n",
       "      <td>139722766.jpg</td>\n",
       "    </tr>\n",
       "  </tbody>\n",
       "</table>\n",
       "<p>22480 rows × 3 columns</p>\n",
       "</div>"
      ],
      "text/plain": [
       "                                  prediction  \\\n",
       "0                        class_Mysterious AI   \n",
       "1                        class_Mysterious AI   \n",
       "2         class_Acting or Performing machine   \n",
       "3      class_Learning or recognition machine   \n",
       "4                    class_None of the above   \n",
       "...                                      ...   \n",
       "22475                 class_Thinking machine   \n",
       "22476                 class_Thinking machine   \n",
       "22477                 class_Thinking machine   \n",
       "22478     class_Acting or Performing machine   \n",
       "22479                       class_Complex AI   \n",
       "\n",
       "                                                    path       filename  \n",
       "0      /home/theo/robot_images/images_by_class/valida...  139716097.jpg  \n",
       "1      /home/theo/robot_images/images_by_class/valida...  139716088.jpg  \n",
       "2      /home/theo/robot_images/images_by_class/valida...  139674805.jpg  \n",
       "3      /home/theo/robot_images/images_by_class/valida...  139675342.jpg  \n",
       "4      /home/theo/robot_images/images_by_class/valida...  139722757.jpg  \n",
       "...                                                  ...            ...  \n",
       "22475  /home/theo/robot_images/images_by_class/valida...  139689554.jpg  \n",
       "22476  /home/theo/robot_images/images_by_class/valida...  139715503.jpg  \n",
       "22477  /home/theo/robot_images/images_by_class/valida...  139689692.jpg  \n",
       "22478  /home/theo/robot_images/images_by_class/valida...  139722773.jpg  \n",
       "22479  /home/theo/robot_images/images_by_class/valida...  139722766.jpg  \n",
       "\n",
       "[22480 rows x 3 columns]"
      ]
     },
     "execution_count": 30,
     "metadata": {},
     "output_type": "execute_result"
    }
   ],
   "source": [
    "results"
   ]
  },
  {
   "cell_type": "code",
   "execution_count": 31,
   "metadata": {},
   "outputs": [],
   "source": [
    "results.to_csv('predictions_imago.csv', index=False)\n",
    "results.to_pickle('predictions_imago.pkl')\n"
   ]
  },
  {
   "cell_type": "code",
   "execution_count": null,
   "metadata": {
    "pycharm": {
     "name": "#%%\n"
    }
   },
   "outputs": [],
   "source": []
  }
 ],
 "metadata": {
  "kernelspec": {
   "display_name": "Python 3 (ipykernel)",
   "language": "python",
   "name": "python3"
  },
  "language_info": {
   "codemirror_mode": {
    "name": "ipython",
    "version": 3
   },
   "file_extension": ".py",
   "mimetype": "text/x-python",
   "name": "python",
   "nbconvert_exporter": "python",
   "pygments_lexer": "ipython3",
   "version": "3.9.18"
  }
 },
 "nbformat": 4,
 "nbformat_minor": 1
}
