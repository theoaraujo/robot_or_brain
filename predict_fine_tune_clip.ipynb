{
 "cells": [
  {
   "cell_type": "markdown",
   "metadata": {},
   "source": [
    "# Predictions based on clip finetuned model\n",
    "\n",
    "This notebook uses the model already finetuned (```./clip_features_model_kf5cnvvi```) to make predictions on a larger set of images from a commercial database.\n",
    "\n",
    "The steps followed were:\n",
    "1. The image features were precomputed using clip (using ```python save_clip_and_resnet_features.py --data_base_path my_data_folder/ --model clip```).\n",
    "    * Folders were created with the same class names as used during the model train/validation/test process\n",
    "    * The images from the commercial database were randomly set across the class folders (as the true values were not known)\n",
    "2. The model was ran to create predictions for all images \n",
    "    * The comparison between predicted and true values were skipped as they were not relevant (the true values were not known)\n",
    "3. The dataset was saved to be further consolidated with the commercial dataset information\n",
    "\n",
    "    "
   ]
  },
  {
   "cell_type": "code",
   "execution_count": 1,
   "metadata": {
    "pycharm": {
     "name": "#%%\n"
    }
   },
   "outputs": [
    {
     "name": "stderr",
     "output_type": "stream",
     "text": [
      "2023-10-14 09:42:41.213510: I tensorflow/core/util/port.cc:111] oneDNN custom operations are on. You may see slightly different numerical results due to floating-point round-off errors from different computation orders. To turn them off, set the environment variable `TF_ENABLE_ONEDNN_OPTS=0`.\n",
      "2023-10-14 09:42:41.241578: E tensorflow/compiler/xla/stream_executor/cuda/cuda_dnn.cc:9342] Unable to register cuDNN factory: Attempting to register factory for plugin cuDNN when one has already been registered\n",
      "2023-10-14 09:42:41.241603: E tensorflow/compiler/xla/stream_executor/cuda/cuda_fft.cc:609] Unable to register cuFFT factory: Attempting to register factory for plugin cuFFT when one has already been registered\n",
      "2023-10-14 09:42:41.241619: E tensorflow/compiler/xla/stream_executor/cuda/cuda_blas.cc:1518] Unable to register cuBLAS factory: Attempting to register factory for plugin cuBLAS when one has already been registered\n",
      "2023-10-14 09:42:41.246728: I tensorflow/core/platform/cpu_feature_guard.cc:182] This TensorFlow binary is optimized to use available CPU instructions in performance-critical operations.\n",
      "To enable the following instructions: AVX2 AVX512F AVX512_VNNI FMA, in other operations, rebuild TensorFlow with the appropriate compiler flags.\n",
      "2023-10-14 09:42:41.793851: W tensorflow/compiler/tf2tensorrt/utils/py_utils.cc:38] TF-TRT Warning: Could not find TensorRT\n"
     ]
    }
   ],
   "source": [
    "import numpy as np\n",
    "import pandas as pd\n",
    "from pandas import DataFrame as df\n",
    "import tensorflow as tf"
   ]
  },
  {
   "cell_type": "markdown",
   "metadata": {
    "pycharm": {
     "name": "#%% md\n"
    }
   },
   "source": [
    "### Load validation set in tensorflow format"
   ]
  },
  {
   "cell_type": "code",
   "execution_count": 3,
   "metadata": {
    "pycharm": {
     "name": "#%%\n"
    }
   },
   "outputs": [
    {
     "name": "stdout",
     "output_type": "stream",
     "text": [
      "Loaded 22480 instances from /home/theo/robot_images/validation.pk.\n",
      "X shape (22480, 512) and y shape (22480,) with labels:\n",
      "y\n",
      "class_Superior human                     22464\n",
      "class_Thinking machine                       4\n",
      "class_None of the above                      2\n",
      "class_Mysterious AI                          2\n",
      "class_Collaborative or Interactive AI        2\n",
      "class_Complex AI                             2\n",
      "class_Learning or recognition machine        2\n",
      "class_Acting or Performing machine           2\n",
      "Name: count, dtype: int64.\n"
     ]
    }
   ],
   "source": [
    "def load_dataset(path):\n",
    "    data = pd.read_pickle(path)\n",
    "    n_features = data['clip_features'][0].shape[-1]\n",
    "    class_names = data['y'].unique()\n",
    "    y = np.array([np.where(class_names == e)[0][0] for e in data['y']])\n",
    "    x = np.concatenate(data['clip_features'].to_numpy())\n",
    "    print(f'Loaded {len(x)} instances from {path}.')\n",
    "    print(f'X shape {x.shape} and y shape {y.shape} with labels:\\n{data[\"y\"].value_counts()}.')\n",
    "    train_ds = tf.data.Dataset.from_tensor_slices((x, y)).batch(16)\n",
    "    return train_ds, class_names, n_features\n",
    "\n",
    "\n",
    "validation_ds, class_names, n_features = load_dataset('/home/theo/robot_images/validation.pk')\n"
   ]
  },
  {
   "cell_type": "code",
   "execution_count": 4,
   "metadata": {
    "pycharm": {
     "name": "#%%\n"
    }
   },
   "outputs": [],
   "source": [
    "class_list = class_names"
   ]
  },
  {
   "cell_type": "code",
   "execution_count": 5,
   "metadata": {
    "pycharm": {
     "name": "#%%\n"
    }
   },
   "outputs": [],
   "source": [
    "trues = [class_list[int(y)] for _x, y in validation_ds.unbatch()]"
   ]
  },
  {
   "cell_type": "markdown",
   "metadata": {
    "pycharm": {
     "name": "#%% md\n"
    }
   },
   "source": [
    "### Print class counts for each split"
   ]
  },
  {
   "cell_type": "code",
   "execution_count": 6,
   "metadata": {
    "pycharm": {
     "name": "#%%\n"
    }
   },
   "outputs": [
    {
     "data": {
      "text/plain": [
       "class_Superior human                     22464\n",
       "class_Thinking machine                       4\n",
       "class_Acting or Performing machine           2\n",
       "class_Collaborative or Interactive AI        2\n",
       "class_Learning or recognition machine        2\n",
       "class_Complex AI                             2\n",
       "class_None of the above                      2\n",
       "class_Mysterious AI                          2\n",
       "Name: count, dtype: int64"
      ]
     },
     "execution_count": 6,
     "metadata": {},
     "output_type": "execute_result"
    }
   ],
   "source": [
    "df([y for y in trues]).value_counts()"
   ]
  },
  {
   "cell_type": "markdown",
   "metadata": {
    "pycharm": {
     "name": "#%% md\n"
    }
   },
   "source": [
    "Some of these counts are horrible. The number of examples in 'Learning or recognition machine', 'Superior human' and 'Mysterious AI' are really too small. Also, the 'None of the above' class is very large, although that's not really a problem."
   ]
  },
  {
   "cell_type": "markdown",
   "metadata": {
    "pycharm": {
     "name": "#%% md\n"
    }
   },
   "source": [
    "### Load our trained model"
   ]
  },
  {
   "cell_type": "code",
   "execution_count": 7,
   "metadata": {
    "pycharm": {
     "name": "#%%\n"
    }
   },
   "outputs": [],
   "source": [
    "import tensorflow as tf\n",
    "\n",
    "# model = tf.keras.models.load_model('./fine_tuned_model_3m6herki')\n",
    "# model = tf.keras.models.load_model('./fine_tuned_model_3f0vzk68')\n",
    "# model = tf.keras.models.load_model('./fine_tuned_model_qdesgan9')\n",
    "# model = tf.keras.models.load_model('./clip_features_model_kuw3ehqp')\n",
    "model = tf.keras.models.load_model('./clip_features_model_kf5cnvvi')"
   ]
  },
  {
   "cell_type": "markdown",
   "metadata": {
    "pycharm": {
     "name": "#%% md\n"
    }
   },
   "source": [
    "### Make predictions"
   ]
  },
  {
   "cell_type": "code",
   "execution_count": 8,
   "metadata": {
    "pycharm": {
     "name": "#%%\n"
    }
   },
   "outputs": [
    {
     "name": "stdout",
     "output_type": "stream",
     "text": [
      " 143/1405 [==>...........................] - ETA: 0s "
     ]
    },
    {
     "name": "stderr",
     "output_type": "stream",
     "text": [
      "2023-10-14 09:43:18.629900: W tensorflow/compiler/xla/service/gpu/llvm_gpu_backend/gpu_backend_lib.cc:521] Can't find libdevice directory ${CUDA_DIR}/nvvm/libdevice. This may result in compilation or runtime failures, if the program we try to run uses routines from libdevice.\n",
      "Searched for CUDA in the following directories:\n",
      "  ./cuda_sdk_lib\n",
      "  /usr/local/cuda-11.8\n",
      "  /usr/local/cuda\n",
      "  /home/theo/anaconda3/envs/robot/lib/python3.9/site-packages/tensorflow/python/platform/../../../nvidia/cuda_nvcc\n",
      "  /home/theo/anaconda3/envs/robot/lib/python3.9/site-packages/tensorflow/python/platform/../../../../nvidia/cuda_nvcc\n",
      "  .\n",
      "You can choose the search directory by setting xla_gpu_cuda_data_dir in HloModule's DebugOptions.  For most apps, setting the environment variable XLA_FLAGS=--xla_gpu_cuda_data_dir=/path/to/cuda will work.\n",
      "2023-10-14 09:43:18.658819: I tensorflow/tsl/platform/default/subprocess.cc:304] Start cannot spawn child process: No such file or directory\n",
      "2023-10-14 09:43:18.659712: I tensorflow/tsl/platform/default/subprocess.cc:304] Start cannot spawn child process: No such file or directory\n",
      "2023-10-14 09:43:18.659730: W tensorflow/compiler/xla/stream_executor/gpu/asm_compiler.cc:109] Couldn't get ptxas version : FAILED_PRECONDITION: Couldn't get ptxas/nvlink version string: INTERNAL: Couldn't invoke ptxas --version\n",
      "2023-10-14 09:43:18.660101: I tensorflow/tsl/platform/default/subprocess.cc:304] Start cannot spawn child process: No such file or directory\n",
      "2023-10-14 09:43:18.660131: W tensorflow/compiler/mlir/tools/kernel_gen/transforms/gpu_kernel_to_blob_pass.cc:191] Failed to compile generated PTX with ptxas. Falling back to compilation by driver.\n"
     ]
    },
    {
     "name": "stdout",
     "output_type": "stream",
     "text": [
      "1405/1405 [==============================] - 2s 666us/step\n",
      "class_Complex AI                         8557\n",
      "class_Mysterious AI                      4418\n",
      "class_Acting or Performing machine       3849\n",
      "class_Thinking machine                   2824\n",
      "class_None of the above                  1737\n",
      "class_Learning or recognition machine     828\n",
      "class_Superior human                      267\n",
      "Name: count, dtype: int64\n",
      "class_Superior human                     22464\n",
      "class_Thinking machine                       4\n",
      "class_Acting or Performing machine           2\n",
      "class_Collaborative or Interactive AI        2\n",
      "class_Learning or recognition machine        2\n",
      "class_Complex AI                             2\n",
      "class_None of the above                      2\n",
      "class_Mysterious AI                          2\n",
      "Name: count, dtype: int64\n"
     ]
    }
   ],
   "source": [
    "logits = model.predict(validation_ds)\n",
    "predicted = [class_list[v] for v in np.argmax(logits, 1)]\n",
    "from pandas import DataFrame as df\n",
    "\n",
    "print(df(predicted).value_counts())\n",
    "print(df(trues).value_counts())"
   ]
  },
  {
   "cell_type": "code",
   "execution_count": 16,
   "metadata": {},
   "outputs": [],
   "source": [
    "df_predicted = df(predicted).reset_index()\n",
    "df_trues = df(trues).reset_index()"
   ]
  },
  {
   "cell_type": "code",
   "execution_count": 18,
   "metadata": {},
   "outputs": [],
   "source": [
    "df_predicted = df_predicted.rename(columns={0:'predictions'})\n",
    "df_trues = df_trues.rename(columns={0:'folder_validation'})"
   ]
  },
  {
   "cell_type": "code",
   "execution_count": 22,
   "metadata": {},
   "outputs": [],
   "source": [
    "results = df_predicted.merge(df_trues)"
   ]
  },
  {
   "cell_type": "code",
   "execution_count": 23,
   "metadata": {},
   "outputs": [
    {
     "data": {
      "text/html": [
       "<div>\n",
       "<style scoped>\n",
       "    .dataframe tbody tr th:only-of-type {\n",
       "        vertical-align: middle;\n",
       "    }\n",
       "\n",
       "    .dataframe tbody tr th {\n",
       "        vertical-align: top;\n",
       "    }\n",
       "\n",
       "    .dataframe thead th {\n",
       "        text-align: right;\n",
       "    }\n",
       "</style>\n",
       "<table border=\"1\" class=\"dataframe\">\n",
       "  <thead>\n",
       "    <tr style=\"text-align: right;\">\n",
       "      <th></th>\n",
       "      <th>index</th>\n",
       "      <th>predictions</th>\n",
       "      <th>folder_validation</th>\n",
       "    </tr>\n",
       "  </thead>\n",
       "  <tbody>\n",
       "    <tr>\n",
       "      <th>0</th>\n",
       "      <td>0</td>\n",
       "      <td>class_Mysterious AI</td>\n",
       "      <td>class_Mysterious AI</td>\n",
       "    </tr>\n",
       "    <tr>\n",
       "      <th>1</th>\n",
       "      <td>1</td>\n",
       "      <td>class_Mysterious AI</td>\n",
       "      <td>class_Mysterious AI</td>\n",
       "    </tr>\n",
       "    <tr>\n",
       "      <th>2</th>\n",
       "      <td>2</td>\n",
       "      <td>class_Acting or Performing machine</td>\n",
       "      <td>class_None of the above</td>\n",
       "    </tr>\n",
       "    <tr>\n",
       "      <th>3</th>\n",
       "      <td>3</td>\n",
       "      <td>class_Learning or recognition machine</td>\n",
       "      <td>class_None of the above</td>\n",
       "    </tr>\n",
       "    <tr>\n",
       "      <th>4</th>\n",
       "      <td>4</td>\n",
       "      <td>class_None of the above</td>\n",
       "      <td>class_Thinking machine</td>\n",
       "    </tr>\n",
       "    <tr>\n",
       "      <th>...</th>\n",
       "      <td>...</td>\n",
       "      <td>...</td>\n",
       "      <td>...</td>\n",
       "    </tr>\n",
       "    <tr>\n",
       "      <th>22475</th>\n",
       "      <td>22475</td>\n",
       "      <td>class_Thinking machine</td>\n",
       "      <td>class_Complex AI</td>\n",
       "    </tr>\n",
       "    <tr>\n",
       "      <th>22476</th>\n",
       "      <td>22476</td>\n",
       "      <td>class_Thinking machine</td>\n",
       "      <td>class_Learning or recognition machine</td>\n",
       "    </tr>\n",
       "    <tr>\n",
       "      <th>22477</th>\n",
       "      <td>22477</td>\n",
       "      <td>class_Thinking machine</td>\n",
       "      <td>class_Learning or recognition machine</td>\n",
       "    </tr>\n",
       "    <tr>\n",
       "      <th>22478</th>\n",
       "      <td>22478</td>\n",
       "      <td>class_Acting or Performing machine</td>\n",
       "      <td>class_Acting or Performing machine</td>\n",
       "    </tr>\n",
       "    <tr>\n",
       "      <th>22479</th>\n",
       "      <td>22479</td>\n",
       "      <td>class_Complex AI</td>\n",
       "      <td>class_Acting or Performing machine</td>\n",
       "    </tr>\n",
       "  </tbody>\n",
       "</table>\n",
       "<p>22480 rows × 3 columns</p>\n",
       "</div>"
      ],
      "text/plain": [
       "       index                            predictions  \\\n",
       "0          0                    class_Mysterious AI   \n",
       "1          1                    class_Mysterious AI   \n",
       "2          2     class_Acting or Performing machine   \n",
       "3          3  class_Learning or recognition machine   \n",
       "4          4                class_None of the above   \n",
       "...      ...                                    ...   \n",
       "22475  22475                 class_Thinking machine   \n",
       "22476  22476                 class_Thinking machine   \n",
       "22477  22477                 class_Thinking machine   \n",
       "22478  22478     class_Acting or Performing machine   \n",
       "22479  22479                       class_Complex AI   \n",
       "\n",
       "                           folder_validation  \n",
       "0                        class_Mysterious AI  \n",
       "1                        class_Mysterious AI  \n",
       "2                    class_None of the above  \n",
       "3                    class_None of the above  \n",
       "4                     class_Thinking machine  \n",
       "...                                      ...  \n",
       "22475                       class_Complex AI  \n",
       "22476  class_Learning or recognition machine  \n",
       "22477  class_Learning or recognition machine  \n",
       "22478     class_Acting or Performing machine  \n",
       "22479     class_Acting or Performing machine  \n",
       "\n",
       "[22480 rows x 3 columns]"
      ]
     },
     "execution_count": 23,
     "metadata": {},
     "output_type": "execute_result"
    }
   ],
   "source": [
    "results"
   ]
  },
  {
   "cell_type": "code",
   "execution_count": 24,
   "metadata": {},
   "outputs": [],
   "source": [
    "results.to_csv('predictions_commercial.csv', index=False)\n",
    "results.to_pickle('predictions_commercial.pkl')\n"
   ]
  },
  {
   "cell_type": "code",
   "execution_count": null,
   "metadata": {
    "pycharm": {
     "name": "#%%\n"
    }
   },
   "outputs": [],
   "source": []
  }
 ],
 "metadata": {
  "kernelspec": {
   "display_name": "Python 3",
   "language": "python",
   "name": "python3"
  },
  "language_info": {
   "codemirror_mode": {
    "name": "ipython",
    "version": 3
   },
   "file_extension": ".py",
   "mimetype": "text/x-python",
   "name": "python",
   "nbconvert_exporter": "python",
   "pygments_lexer": "ipython3",
   "version": "3.8.5"
  }
 },
 "nbformat": 4,
 "nbformat_minor": 1
}
